{
 "cells": [
  {
   "cell_type": "code",
   "execution_count": 1,
   "metadata": {},
   "outputs": [],
   "source": [
    "import blocks\n",
    "import torch\n",
    "import model"
   ]
  },
  {
   "cell_type": "code",
   "execution_count": 2,
   "metadata": {},
   "outputs": [
    {
     "data": {
      "text/plain": [
       "torch.Size([4, 8, 28, 28])"
      ]
     },
     "execution_count": 2,
     "metadata": {},
     "output_type": "execute_result"
    }
   ],
   "source": [
    "in_channels = 4\n",
    "out_channels = 8\n",
    "time_dim = 28 * 4\n",
    "res = blocks.ResidualDoubleConvBlock(in_channels, out_channels, time_dim)\n",
    "\n",
    "x = torch.randn(4, 4, 28, 28)\n",
    "time_emb = torch.randn(4, time_dim)\n",
    "y = res(x, time_emb)\n",
    "\n",
    "y.shape"
   ]
  },
  {
   "cell_type": "code",
   "execution_count": 3,
   "metadata": {},
   "outputs": [
    {
     "data": {
      "text/plain": [
       "torch.Size([4, 8, 28, 28])"
      ]
     },
     "execution_count": 3,
     "metadata": {},
     "output_type": "execute_result"
    }
   ],
   "source": [
    "in_channels = 4\n",
    "out_channels = 8\n",
    "time_dim = 28 * 4\n",
    "in_c = blocks.InConv(in_channels, out_channels, time_dim)\n",
    "\n",
    "x = torch.randn(4, 4, 28, 28)\n",
    "time_emb = torch.randn(4, time_dim)\n",
    "y = in_c(x, time_emb)\n",
    "\n",
    "y.shape"
   ]
  },
  {
   "cell_type": "code",
   "execution_count": 4,
   "metadata": {},
   "outputs": [
    {
     "data": {
      "text/plain": [
       "torch.Size([4, 8, 14, 14])"
      ]
     },
     "execution_count": 4,
     "metadata": {},
     "output_type": "execute_result"
    }
   ],
   "source": [
    "in_channels = 4\n",
    "out_channels = 8\n",
    "time_dim = 28 * 4\n",
    "down = blocks.Down(in_channels, out_channels, time_dim)\n",
    "\n",
    "x = torch.randn(4, 4, 28, 28)\n",
    "time_emb = torch.randn(4, time_dim)\n",
    "y = down(x, time_emb)\n",
    "\n",
    "y.shape"
   ]
  },
  {
   "cell_type": "code",
   "execution_count": 5,
   "metadata": {},
   "outputs": [
    {
     "data": {
      "text/plain": [
       "torch.Size([4, 8, 56, 56])"
      ]
     },
     "execution_count": 5,
     "metadata": {},
     "output_type": "execute_result"
    }
   ],
   "source": [
    "in_channels = 4\n",
    "out_channels = 8\n",
    "time_dim = 28 * 4\n",
    "up = blocks.Up(in_channels, out_channels, time_dim)\n",
    "\n",
    "x = torch.randn(4, 4, 28, 28)\n",
    "x1 = torch.randn(4, 2, 56, 56)\n",
    "time_emb = torch.randn(4, time_dim)\n",
    "y = up(x, x1, time_emb)\n",
    "\n",
    "y.shape"
   ]
  },
  {
   "cell_type": "code",
   "execution_count": 6,
   "metadata": {},
   "outputs": [
    {
     "data": {
      "text/plain": [
       "torch.Size([4, 8, 28, 28])"
      ]
     },
     "execution_count": 6,
     "metadata": {},
     "output_type": "execute_result"
    }
   ],
   "source": [
    "in_channels = 4\n",
    "out_channels = 8\n",
    "time_dim = 28 * 4\n",
    "out_c = blocks.OutConv(in_channels, out_channels)\n",
    "\n",
    "x = torch.randn(4, 4, 28, 28)\n",
    "y = out_c(x)\n",
    "\n",
    "y.shape"
   ]
  },
  {
   "cell_type": "code",
   "execution_count": 8,
   "metadata": {},
   "outputs": [
    {
     "data": {
      "text/plain": [
       "torch.Size([4, 1, 28, 28])"
      ]
     },
     "execution_count": 8,
     "metadata": {},
     "output_type": "execute_result"
    }
   ],
   "source": [
    "in_channels = 1\n",
    "out_channels = 1\n",
    "time_dim = 28 * 4\n",
    "u = model.UNet(in_channels, out_channels, time_dim)\n",
    "\n",
    "x = torch.randn(4, 1, 28, 28)\n",
    "time = torch.randint(0, 200, (4,))\n",
    "y = u(x, time)\n",
    "\n",
    "y.shape"
   ]
  },
  {
   "cell_type": "code",
   "execution_count": null,
   "metadata": {},
   "outputs": [],
   "source": []
  }
 ],
 "metadata": {
  "kernelspec": {
   "display_name": "myScoreInverse",
   "language": "python",
   "name": "python3"
  },
  "language_info": {
   "codemirror_mode": {
    "name": "ipython",
    "version": 3
   },
   "file_extension": ".py",
   "mimetype": "text/x-python",
   "name": "python",
   "nbconvert_exporter": "python",
   "pygments_lexer": "ipython3",
   "version": "3.9.15 (main, Nov 24 2022, 14:39:17) [MSC v.1916 64 bit (AMD64)]"
  },
  "orig_nbformat": 4,
  "vscode": {
   "interpreter": {
    "hash": "100a512115e8bd27acc65334a91d1069fe53ae17f884ae4ebc94fb6fe63bc016"
   }
  }
 },
 "nbformat": 4,
 "nbformat_minor": 2
}
