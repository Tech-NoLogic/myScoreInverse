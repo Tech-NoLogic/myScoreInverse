{
 "cells": [
  {
   "cell_type": "code",
   "execution_count": 44,
   "metadata": {},
   "outputs": [],
   "source": [
    "import torch\n",
    "from torchvision import transforms\n",
    "import matplotlib.pyplot as plt\n",
    "import matplotlib.animation as animation\n",
    "\n",
    "import train_infer_utils\n",
    "import utils\n",
    "from model import UNet\n",
    "from config import Config"
   ]
  },
  {
   "cell_type": "code",
   "execution_count": 45,
   "metadata": {},
   "outputs": [
    {
     "data": {
      "text/plain": [
       "<All keys matched successfully>"
      ]
     },
     "execution_count": 45,
     "metadata": {},
     "output_type": "execute_result"
    }
   ],
   "source": [
    "model = UNet(Config.channels, Config.channels, Config.time_dim)\n",
    "model.load_state_dict(torch.load(Config.model_path))"
   ]
  },
  {
   "cell_type": "code",
   "execution_count": 46,
   "metadata": {},
   "outputs": [
    {
     "name": "stderr",
     "output_type": "stream",
     "text": [
      "sampling loop time step: 100%|██████████| 200/200 [02:50<00:00,  1.18it/s]\n"
     ]
    }
   ],
   "source": [
    "reverse_trans = transforms.ToPILImage()\n",
    "\n",
    "imgs = train_infer_utils.sample(model, img_size=28, channels=1, batch_size=64)\n"
   ]
  },
  {
   "cell_type": "code",
   "execution_count": 47,
   "metadata": {},
   "outputs": [
    {
     "name": "stdout",
     "output_type": "stream",
     "text": [
      "200\n",
      "torch.Size([64, 1, 28, 28])\n"
     ]
    }
   ],
   "source": [
    "print(len(imgs))\n",
    "print(imgs[0].shape)"
   ]
  },
  {
   "cell_type": "code",
   "execution_count": 50,
   "metadata": {},
   "outputs": [
    {
     "name": "stderr",
     "output_type": "stream",
     "text": [
      "MovieWriter ffmpeg unavailable; using Pillow instead.\n"
     ]
    },
    {
     "data": {
      "image/png": "[encoded data removed]",
      "text/plain": [
       "<Figure size 640x480 with 1 Axes>"
      ]
     },
     "metadata": {},
     "output_type": "display_data"
    }
   ],
   "source": [
    "random_index = 3\n",
    "\n",
    "fig = plt.figure()\n",
    "ims = []\n",
    "for i in range(Config.timesteps):\n",
    "    im = plt.imshow(\n",
    "        imgs[i][random_index].reshape(Config.img_size, Config.img_size, Config.channels), \n",
    "        cmap=\"gray\", animated=True\n",
    "        )\n",
    "    ims.append([im])\n",
    "\n",
    "animate = animation.ArtistAnimation(fig, ims, interval=50, blit=True, repeat_delay=1000)\n",
    "animate.save('diffusion.gif')\n",
    "plt.show()"
   ]
  },
  {
   "cell_type": "code",
   "execution_count": 49,
   "metadata": {},
   "outputs": [],
   "source": [
    "for i in range(Config.batch_size):\n",
    "    im = imgs[-1][i].reshape(Config.channels, Config.img_size, Config.img_size)\n",
    "    im = reverse_trans(im)\n",
    "    im = im.resize((512, 512))\n",
    "    im.save(f\"./results/{i}.png\")\n"
   ]
  }
 ],
 "metadata": {
  "kernelspec": {
   "display_name": "myScoreInverse",
   "language": "python",
   "name": "python3"
  },
  "language_info": {
   "codemirror_mode": {
    "name": "ipython",
    "version": 3
   },
   "file_extension": ".py",
   "mimetype": "text/x-python",
   "name": "python",
   "nbconvert_exporter": "python",
   "pygments_lexer": "ipython3",
   "version": "3.9.15"
  },
  "orig_nbformat": 4,
  "vscode": {
   "interpreter": {
    "hash": "100a512115e8bd27acc65334a91d1069fe53ae17f884ae4ebc94fb6fe63bc016"
   }
  }
 },
 "nbformat": 4,
 "nbformat_minor": 2
}
