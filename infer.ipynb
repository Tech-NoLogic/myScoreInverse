{
 "cells": [
  {
   "cell_type": "code",
   "execution_count": 8,
   "metadata": {},
   "outputs": [],
   "source": [
    "import torch\n",
    "from torchvision import transforms\n",
    "\n",
    "import train_infer_utils\n",
    "import utils\n",
    "from model import UNet\n",
    "from config import Config"
   ]
  },
  {
   "cell_type": "code",
   "execution_count": 6,
   "metadata": {},
   "outputs": [
    {
     "data": {
      "text/plain": [
       "<All keys matched successfully>"
      ]
     },
     "execution_count": 6,
     "metadata": {},
     "output_type": "execute_result"
    }
   ],
   "source": [
    "model = UNet(Config.channels, Config.channels, Config.time_dim)\n",
    "model.load_state_dict(torch.load(Config.model_path))"
   ]
  },
  {
   "cell_type": "code",
   "execution_count": 9,
   "metadata": {},
   "outputs": [
    {
     "name": "stderr",
     "output_type": "stream",
     "text": [
      "sampling loop time step:   0%|          | 0/200 [00:00<?, ?it/s]\n"
     ]
    },
    {
     "ename": "RuntimeError",
     "evalue": "The size of tensor a (28) must match the size of tensor b (200) at non-singleton dimension 3",
     "output_type": "error",
     "traceback": [
      "\u001b[1;31m---------------------------------------------------------------------------\u001b[0m",
      "\u001b[1;31mRuntimeError\u001b[0m                              Traceback (most recent call last)",
      "Cell \u001b[1;32mIn[9], line 3\u001b[0m\n\u001b[0;32m      1\u001b[0m reverse_trans \u001b[39m=\u001b[39m transforms\u001b[39m.\u001b[39mToPILImage()\n\u001b[1;32m----> 3\u001b[0m imgs \u001b[39m=\u001b[39m train_infer_utils\u001b[39m.\u001b[39;49msample(model, img_size\u001b[39m=\u001b[39;49m\u001b[39m28\u001b[39;49m, channels\u001b[39m=\u001b[39;49m\u001b[39m1\u001b[39;49m, batch_size\u001b[39m=\u001b[39;49m\u001b[39m2\u001b[39;49m)\n\u001b[0;32m      4\u001b[0m imgs \u001b[39m=\u001b[39m \u001b[39mlist\u001b[39m(\u001b[39mmap\u001b[39m(\u001b[39mlambda\u001b[39;00m img : reverse_trans(imgs), imgs))\n\u001b[0;32m      5\u001b[0m \u001b[39mprint\u001b[39m(imgs[\u001b[39m0\u001b[39m]\u001b[39m.\u001b[39msize)\n",
      "File \u001b[1;32me:\\EXM\\graduation_design\\myScoreInverse\\train_infer_utils.py:45\u001b[0m, in \u001b[0;36msample\u001b[1;34m(model, img_size, batch_size, channels)\u001b[0m\n\u001b[0;32m     44\u001b[0m \u001b[39mdef\u001b[39;00m \u001b[39msample\u001b[39m(model, img_size, batch_size\u001b[39m=\u001b[39m\u001b[39m16\u001b[39m, channels\u001b[39m=\u001b[39m\u001b[39m3\u001b[39m):\n\u001b[1;32m---> 45\u001b[0m     \u001b[39mreturn\u001b[39;00m get_denoised_images((batch_size, channels, img_size, img_size), Config\u001b[39m.\u001b[39;49mtimesteps, model)\n",
      "File \u001b[1;32me:\\EXM\\graduation_design\\myScoreInverse\\train_infer_utils.py:40\u001b[0m, in \u001b[0;36mget_denoised_images\u001b[1;34m(shape, timesteps, model)\u001b[0m\n\u001b[0;32m     37\u001b[0m imgs \u001b[39m=\u001b[39m []\n\u001b[0;32m     39\u001b[0m \u001b[39mfor\u001b[39;00m i \u001b[39min\u001b[39;00m tqdm(\u001b[39mreversed\u001b[39m(\u001b[39mrange\u001b[39m(\u001b[39m0\u001b[39m, timesteps)), desc\u001b[39m=\u001b[39m\u001b[39m'\u001b[39m\u001b[39msampling loop time step\u001b[39m\u001b[39m'\u001b[39m, total\u001b[39m=\u001b[39mtimesteps):\n\u001b[1;32m---> 40\u001b[0m     img \u001b[39m=\u001b[39m get_denoised_image(img, torch\u001b[39m.\u001b[39;49mfull((b_size,), i, device\u001b[39m=\u001b[39;49mdevice, dtype\u001b[39m=\u001b[39;49mtorch\u001b[39m.\u001b[39;49mlong), model)\n\u001b[0;32m     41\u001b[0m     imgs\u001b[39m.\u001b[39mappend(img\u001b[39m.\u001b[39mcpu()\u001b[39m.\u001b[39mnumpy())\n\u001b[0;32m     42\u001b[0m \u001b[39mreturn\u001b[39;00m imgs\n",
      "File \u001b[1;32me:\\EXM\\graduation_design\\myScoreInverse\\train_infer_utils.py:30\u001b[0m, in \u001b[0;36mget_denoised_image\u001b[1;34m(x, step, model)\u001b[0m\n\u001b[0;32m     28\u001b[0m noise \u001b[39m=\u001b[39m torch\u001b[39m.\u001b[39mrandn_like(x)\n\u001b[0;32m     29\u001b[0m posterior_variance_t \u001b[39m=\u001b[39m utils\u001b[39m.\u001b[39mextract(Consts\u001b[39m.\u001b[39mposterior_variance, step, x\u001b[39m.\u001b[39mshape)\n\u001b[1;32m---> 30\u001b[0m \u001b[39mreturn\u001b[39;00m model_mean \u001b[39m+\u001b[39m noise \u001b[39m*\u001b[39;49m Consts\u001b[39m.\u001b[39;49mposterior_variance\n",
      "\u001b[1;31mRuntimeError\u001b[0m: The size of tensor a (28) must match the size of tensor b (200) at non-singleton dimension 3"
     ]
    }
   ],
   "source": [
    "reverse_trans = transforms.ToPILImage()\n",
    "\n",
    "imgs = train_infer_utils.sample(model, img_size=28, channels=1, batch_size=2)\n",
    "imgs = list(map(lambda img : reverse_trans(imgs), imgs))\n",
    "print(imgs[0].size)\n",
    "utils.plot(imgs, cmap ='gray')"
   ]
  }
 ],
 "metadata": {
  "kernelspec": {
   "display_name": "myScoreInverse",
   "language": "python",
   "name": "python3"
  },
  "language_info": {
   "codemirror_mode": {
    "name": "ipython",
    "version": 3
   },
   "file_extension": ".py",
   "mimetype": "text/x-python",
   "name": "python",
   "nbconvert_exporter": "python",
   "pygments_lexer": "ipython3",
   "version": "3.9.15"
  },
  "orig_nbformat": 4,
  "vscode": {
   "interpreter": {
    "hash": "100a512115e8bd27acc65334a91d1069fe53ae17f884ae4ebc94fb6fe63bc016"
   }
  }
 },
 "nbformat": 4,
 "nbformat_minor": 2
}
